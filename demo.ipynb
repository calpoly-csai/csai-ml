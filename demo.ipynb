{
 "cells": [
  {
   "cell_type": "code",
   "execution_count": 2,
   "metadata": {},
   "outputs": [],
   "source": [
    "import pandas as pd\n",
    "from sklearn.feature_extraction.text import TfidfVectorizer\n",
    "from sklearn.naive_bayes import MultinomialNB\n",
    "from sklearn.neighbors import (NeighborhoodComponentsAnalysis, KNeighborsClassifier)"
   ]
  },
  {
   "cell_type": "markdown",
   "metadata": {},
   "source": [
    "# 1. Match User Question with One in the Database"
   ]
  },
  {
   "cell_type": "markdown",
   "metadata": {},
   "source": [
    "## Establish Database Access and Classify Questions"
   ]
  },
  {
   "cell_type": "code",
   "execution_count": 31,
   "metadata": {},
   "outputs": [
    {
     "name": "stdout",
     "output_type": "stream",
     "text": [
      "['Which courses include SAS in the curriculum?', 'How many units are required for the [Degree]?', 'What are the [Coursetype] courses needed for [Degree]?', 'Is [Course] a [Coursetype] course for the [Degree]?', 'What are the non-STAT classes that I need to choose from for my elective credits?', 'Are there [Subject] classes that I can take for [Coursetype] credit in [Degree]?', 'Are there [Coursetype] courses available from departments outside of [Subject] in [Degree]?', 'What departments are all the possible [Coursetype] classes from?', 'What course levels are the possible [Subject] [Coursetype] classes that I can take?', 'How many [Course level] courses are required in [Degree]?', 'Who should I contact if I have questions about the certificate program?', 'To which professors can I ask questions related to the certificate program?', 'Which GE Areas are required for the major?', 'Do I need GE Area [GE Area]?', 'What are all the GEs I need to do?', 'How many GE Areas are required for [Degree]?', 'What sections of [GE Area] must be completed?', 'Is [GE Area] necessary to be completed for [Degree]?', 'Is there a minimum GPA requirement to graduate with the major?', 'Is a [GPA] GPA enough to graduate with a [Degree]?', 'Can I graduate with a [GPA] GPA?', 'What are the learning objectives of [Degree]?', 'What is Learning Objective [Num] ?', 'Can you tell me what learning objective number [Num] is?', 'What is the highest level [Subject] class I can take to count as a [Coursetype]?', 'What course do I need to take to apply for the [Degree]?', 'Do I need to take a certain class to apply for the [Degree]?', 'Would taking [Course] fulfil a requirement to apply for [Degree]?', 'Can I take [Course] to be able to apply to [Degree]?', 'Is [Course] part of an introductory sequence in the minor?', 'What are all the first courses in the introductory sequences for the minor?', 'What are all the possible introductory sequences in the minor?', 'Is there a Senior Project required for the major?', 'Around how many hours of work is required on the senior project?', 'How long does it take to do the senior project?', 'Who are the advisors for [Degree]?', 'Who is in charge of [Degree]?', 'What is the contact information for [Degree] advisors?', 'How can I contact [Degree] advisors?', 'How many [Coursetype] units are in [Degree]?', 'How many [Coursetype] classes do you take for [Degree]?', 'How many [Coursetype] classes are in are in [Degree]?', 'What is the minimum GPA for the [Degree]?', 'What GPA do I need to graduate with a [Degree]?', 'How many free elective units does the [Degree] have?', 'How many free electives can I take for [Degree]?', 'Does the major require you to take the GWR (Graduation Writing Requirement)?', 'Do STAT majors take the GWR?', 'What courses need to be taken to switch into the major?', 'What do I need to do to switch into the major?', 'Who is the advisor for students changing into [Degree]?', 'Who do I go to if I want to switch into the major?', 'How do I switch into Stats?', 'Who do I contact to switch into the major?', 'Can I take [Course] as a [Coursetype] for [Degree]?', 'What general fields are included in the support electives?', 'What are the support elective categories?', 'Is [Course] part of a category for support electives for [Degree]?', 'Is [Course] found under a support elective category for [Degree]?', 'Where can I find the [Degree] Application sheet?', 'How can I apply for [Degree]?', 'What is the course number that I should enroll in for the Senior Project?', 'What courses are required for Senior Projects?', 'Where can I find college advising for COSAM?', 'Who advises for the college?', 'How can I get my support electives approved for the major?', 'Do I need to get my support electives approved?', 'What are the different components for a Degree Senior Project?', 'What is part of the Senior Project for the major?', 'Is [Course] required in [Degree]?', 'Which courses are required for the [Degree]?', 'How many GE units are in [Degree]?', 'Which [Subject] courses are required for the [Degree]?', 'How many [Subject] courses are required for the [Degree]?', 'Are there any [Subject] courses required for the [Degree]?', 'Which courses in the [Degree] can be taken credit/no credit?', 'Can I take credit/no credit courses for the [Degree]?', 'Can I take any classes Pass/Fail in [Degree]?', 'How many courses are in the [Degree]?', 'Which courses are in the [Degree]?', 'How many units of [Course level] courses are required for the [Degree]?', 'How many courses of [GE Area Section] are in [Degree]?', 'Do I have to take extra classes outside of the [Degree] for [Degree]?', 'How many courses outside of the [Degree] are required for [Degree]?', 'How many units overlap with the [Degree] and [Degree]?', 'What are the classes that overlap between [Degree] and [Degree]?', 'Are there any classes that are the same in both [Degree] and [Degree]?', 'How many [Units] classes are required for the [Degree]?', 'Which [Units] classes are required for the [Degree]?', 'Are there [Units] classes I have to take for the [Degree]?', 'How many units of [Subject] courses are required for [Degree]?', 'Which [Subject] courses can I take as an [Coursetype]?', 'Are there any [Subject] courses I can take as an elective?', 'How many options do I have for [Subject] elective courses?', 'What is the number of [Subject] [Coursetype] courses that I can choose from?', 'Is [Course] a [Units] class?', 'What List A courses can I choose from?', 'What List B elective courses can I choose from?', 'How many units of approved support electives are required for [Degree]?', 'How many courses do I have to choose from in List A?', 'How many courses do I have to choose from in List B?', 'What are the List A courses I have available for [Degree]?', 'What courses come under List A for [Degree]?', 'What are the List B courses I have available for [Degree]?', 'What courses come under List B for [Degree]?', 'Are there any capstones required for the [Degree]?', 'What are the capstone classes required for [Degree]?', 'How many minors are available for this department?', 'What are the minors available?', 'Are there minors available for the major?', 'Does the major require a USCP course?', 'Is it required to take a USCP course to graduate with the major?', 'Are there any free electives for [Degree]?', 'Are free electives required to graduate with [Degree]?', 'How many units is [Course]?', 'What are the prereqs for [Course]?', 'Is [Course] a prereq for [Course]?', 'Can I take [Course] as a prereq for [Course]?']\n"
     ]
    }
   ],
   "source": [
    "questions = []\n",
    "file1 = open(\"questions.txt\",\"r\")\n",
    "for i in file1.readlines():\n",
    "    questions.append(i.split(\"|\")[1].strip())\n",
    "\n",
    "print(questions)"
   ]
  },
  {
   "cell_type": "markdown",
   "metadata": {},
   "source": [
    "## Vectorize each Question and Train Model (treat each question as its own Class)"
   ]
  },
  {
   "cell_type": "markdown",
   "metadata": {},
   "source": [
    "### Vectorize Question"
   ]
  },
  {
   "cell_type": "code",
   "execution_count": 4,
   "metadata": {},
   "outputs": [],
   "source": [
    "vectorizer = TfidfVectorizer()\n",
    "X = vectorizer.fit_transform(questions) # remove stop words\n",
    "old = vectorizer.get_feature_names()"
   ]
  },
  {
   "cell_type": "markdown",
   "metadata": {},
   "source": [
    "### Create and Train Models"
   ]
  },
  {
   "cell_type": "code",
   "execution_count": 5,
   "metadata": {},
   "outputs": [],
   "source": [
    "clf = MultinomialNB().fit(X, questions)\n",
    "knn = KNeighborsClassifier(n_neighbors=1).fit(X, questions)"
   ]
  },
  {
   "cell_type": "markdown",
   "metadata": {},
   "source": [
    "## Match User Question "
   ]
  },
  {
   "cell_type": "markdown",
   "metadata": {},
   "source": [
    "### Replace variables in user query "
   ]
  },
  {
   "cell_type": "code",
   "execution_count": 26,
   "metadata": {},
   "outputs": [],
   "source": [
    "asked = [\"my apple is orange no am i an applet or not?\"]"
   ]
  },
  {
   "cell_type": "markdown",
   "metadata": {},
   "source": [
    "### Transform TF-IDF space with new question vector"
   ]
  },
  {
   "cell_type": "code",
   "execution_count": 27,
   "metadata": {},
   "outputs": [],
   "source": [
    "Y = vectorizer.transform(asked)"
   ]
  },
  {
   "cell_type": "code",
   "execution_count": 28,
   "metadata": {},
   "outputs": [
    {
     "name": "stdout",
     "output_type": "stream",
     "text": [
      "['Is [Course] part of an introductory sequence in the minor?']\n",
      "['Is [Course] part of an introductory sequence in the minor?']\n"
     ]
    }
   ],
   "source": [
    "predicted = clf.predict(Y)\n",
    "print(predicted)\n",
    "predicted = knn.predict(Y)\n",
    "print(predicted)"
   ]
  },
  {
   "cell_type": "code",
   "execution_count": null,
   "metadata": {},
   "outputs": [],
   "source": []
  },
  {
   "cell_type": "code",
   "execution_count": 29,
   "metadata": {},
   "outputs": [
    {
     "data": {
      "text/plain": [
       "(array([[1.20730676]]), array([[29]]))"
      ]
     },
     "execution_count": 29,
     "metadata": {},
     "output_type": "execute_result"
    }
   ],
   "source": [
    "knn.kneighbors(Y, n_neighbors = 1)"
   ]
  },
  {
   "cell_type": "code",
   "execution_count": null,
   "metadata": {},
   "outputs": [],
   "source": []
  },
  {
   "cell_type": "code",
   "execution_count": null,
   "metadata": {},
   "outputs": [],
   "source": []
  },
  {
   "cell_type": "code",
   "execution_count": null,
   "metadata": {},
   "outputs": [],
   "source": []
  }
 ],
 "metadata": {
  "kernelspec": {
   "display_name": "Python 3",
   "language": "python",
   "name": "python3"
  },
  "language_info": {
   "codemirror_mode": {
    "name": "ipython",
    "version": 3
   },
   "file_extension": ".py",
   "mimetype": "text/x-python",
   "name": "python",
   "nbconvert_exporter": "python",
   "pygments_lexer": "ipython3",
   "version": "3.7.3"
  }
 },
 "nbformat": 4,
 "nbformat_minor": 4
}
